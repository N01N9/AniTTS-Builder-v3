{
 "cells": [
  {
   "cell_type": "markdown",
   "metadata": {},
   "source": [
    "# Music-Source-Separation-Training-Inference-Webui For Google Colab\n",
    "\n",
    "For personal entertainment and non-commercial use only. Prohibited from use in content related to blood, gore, violence, sex, politics.<br> \n",
    "Author: [Github@KitsuneX07](https://github.com/KitsuneX07) | [Github@SUC-DriverOld](https://github.com/SUC-DriverOld) | Gradio theme: [Gradio Theme](https://huggingface.co/spaces/NoCrypt/miku)<br>\n",
    "Github: [MSST-WebUI](https://github.com/SUC-DriverOld/MSST-WebUI)\n",
    "\n",
    "## Introduction\n",
    "\n",
    "This is a webUI for [Music-Source-Separation-Training](https://github.com/ZFTurbo/Music-Source-Separation-Training), which is a music source separation training framework. You can use this webUI to infer the MSST model and UVR VR.Models (The inference code comes from [python-audio-separator](https://github.com/nomadkaraoke/python-audio-separator), and we do some changes on it), and the preset process page allows you to customize the processing flow yourself. When used on the cloud, you don't need to download the model yourself. WebUI will automatically download the model you need. Finally, we also provide some convenient tools such as [SOME: Vocals to MIDI](https://github.com/openvpi/SOME/) in the webUI."
   ]
  },
  {
   "cell_type": "code",
   "execution_count": null,
   "metadata": {},
   "outputs": [],
   "source": [
    "#@title Connect to colab runtime and check GPU\n",
    "#@markdown # Connect to colab runtime and check GPU\n",
    "#@markdown\n",
    "\n",
    "!nvidia-smi"
   ]
  },
  {
   "cell_type": "code",
   "execution_count": null,
   "metadata": {},
   "outputs": [],
   "source": [
    "#@title Install python 3.10, ffmpeg\n",
    "#@markdown # Install python 3.10, ffmpeg\n",
    "#@markdown\n",
    "\n",
    "!sudo apt install python3.10\n",
    "!sudo apt install ffmpeg"
   ]
  },
  {
   "cell_type": "code",
   "execution_count": null,
   "metadata": {},
   "outputs": [],
   "source": [
    "#@title Clone repository and install requirements\n",
    "#@markdown # Clone repository and install requirements\n",
    "#@markdown\n",
    "#@markdown ### You may need to rerun this cell for a few times\n",
    "#@markdown\n",
    "\n",
    "# Clone the repository\n",
    "%cd /content\n",
    "!git clone https://github.com/SUC-DriverOld/MSST-WebUI.git\n",
    "%cd /content/MSST-WebUI\n",
    "\n",
    "# Upgrade pip and setuptools\n",
    "%pip install --upgrade pip setuptools\n",
    "\n",
    "# Install torch and other requirements\n",
    "%pip install torch torchvision torchaudio --index-url https://download.pytorch.org/whl/cu121\n",
    "%pip install tools/webUI_for_clouds/librosa-0.9.2-py3-none-any.whl\n",
    "%pip install -r requirements.txt --only-binary=samplerate\n",
    "\n",
    "# Copy cloud webui files to the root directory\n",
    "!cp tools/webUI_for_clouds/webUI_for_clouds.py .\n",
    "!cp tools/webUI_for_clouds/download_models.py ."
   ]
  },
  {
   "cell_type": "code",
   "execution_count": null,
   "metadata": {},
   "outputs": [],
   "source": [
    "#@title [Optional] Download SOME weights if needed\n",
    "#@markdown # Download SOME weights if needed\n",
    "#@markdown\n",
    "#@markdown ### If you want to use \"Vocals to MIDI\", download the weights.\n",
    "#@markdown\n",
    "#@markdown ### \"Vocals to MIDI\" use project: [SOME](https://github.com/openvpi/SOME/).\n",
    "#@markdown\n",
    "\n",
    "!wget https://huggingface.co/Sucial/MSST-WebUI/resolve/main/SOME_weights/model_steps_64000_simplified.ckpt -O /content/MSST-WebUI/tools/SOME_weights/model_steps_64000_simplified.ckpt"
   ]
  },
  {
   "cell_type": "code",
   "execution_count": null,
   "metadata": {},
   "outputs": [],
   "source": [
    "#@title [Optional] Pack and upload your music files to your google drive\n",
    "#@markdown # Pack and upload your music files to your google drive\n",
    "#@markdown\n",
    "#@markdown Ensure that there are no nested folders in your zip file, but rather direct audio files.\n",
    "#@markdown\n",
    "\n",
    "from google.colab import drive\n",
    "drive.mount(\"/content/drive\")\n",
    "#@markdown Directory where **your zip file** located in, dont miss the slash at the end.\n",
    "data_dir = \"/content/drive/MyDrive/MSST-WebUI/\"  #@param {type:\"string\"}\n",
    "#@markdown Filename of **your zip file**, for example: \"inputs.zip\"\n",
    "zip_filename = \"input.zip\"  #@param {type:\"string\"}\n",
    "ZIP_PATH = data_dir + zip_filename\n",
    "#@markdown You need to package the audio directly into a zip file, **DO NOT** nest folders in the zip file!\n",
    "#@markdown The compressed file will be extracted to the `input` directory. If there are files in your `input` directory, they will be deleted. Please backup in advance.\n",
    "#@markdown\n",
    "\n",
    "!rm -rf /content/MSST-WebUI/input\n",
    "!mkdir -p /content/MSST-WebUI/input\n",
    "!unzip -od /content/MSST-WebUI/input {ZIP_PATH}"
   ]
  },
  {
   "cell_type": "code",
   "execution_count": null,
   "metadata": {},
   "outputs": [],
   "source": [
    "#@title [Optional] Save results to google drive\n",
    "#@markdown # Save results to google drive\n",
    "#@markdown\n",
    "#@markdown The results audio files in the output directory will be compressed into a zip file and saved to your google drive.\n",
    "#@markdown\n",
    "\n",
    "from google.colab import drive\n",
    "drive.mount(\"/content/drive\")\n",
    "#@markdown Path to save the zip file, dont miss the slash at the end.\n",
    "output_dir = \"/content/drive/MyDrive/MSST-WebUI/\"  #@param {type:\"string\"}\n",
    "#@markdown Filename of the zip file, for example: \"Outputs.zip\"\n",
    "zip_filename = \"Outputs.zip\"  #@param {type:\"string\"}\n",
    "ZIP_PATH = output_dir + zip_filename\n",
    "\n",
    "!mkdir -p {output_dir}\n",
    "!zip -r \"{zip_filename}\" /content/MSST-WebUI/results\n",
    "!cp -vr \"{zip_filename}\" {output_dir}"
   ]
  },
  {
   "cell_type": "code",
   "execution_count": null,
   "metadata": {},
   "outputs": [],
   "source": [
    "#@title [Optional] Delete all result audio files\n",
    "#@markdown # Click to delete all result audio files\n",
    "#@markdown\n",
    "#@markdown ### Warning: Unrecoverable, please operate with caution\n",
    "#@markdown\n",
    "\n",
    "!rm -rf /content/MSST-WebUI/results"
   ]
  },
  {
   "cell_type": "code",
   "execution_count": null,
   "metadata": {},
   "outputs": [],
   "source": [
    "#@title Initialize and start WebUI\n",
    "#@markdown # Initialize and start WebUI\n",
    "#@markdown\n",
    "#@markdown After running this cell, you can use your own device to connect to WebUI. The public link will be displayed below.\n",
    "#@markdown\n",
    "#@markdown If you want to modify the inference parameters of the preset process, edit the `data/webui_config.json` file.\n",
    "#@markdown\n",
    "\n",
    "%cd /content/MSST-WebUI\n",
    "\n",
    "LANGUAGE = \"English\" #@param [\"Auto\", \"English\", \"简体中文\", \"繁體中文\", \"日本語\", \"😊\"]\n",
    "MODEL_DOWNLOAD_LINK = \"huggingface.co\" #@param [\"Auto\", \"huggingface.co\", \"hf-mirror.com\"]\n",
    "DEBUG = False #@param {type:\"boolean\"}\n",
    "\n",
    "import json\n",
    "import os\n",
    "import shutil\n",
    "\n",
    "# Supported languages\n",
    "language_dict = {\"Auto\": \"Auto\", \"简体中文\": \"zh_CN\", \"繁體中文\": \"zh_TW\", \"English\": \"en_US\", \"日本語\": \"ja_JP\", \"😊\": \"emoji\"}\n",
    "\n",
    "# Make dirs if not exist\n",
    "if not os.path.exists(\"data\"):\n",
    "    shutil.copytree(\"data_backup\", \"data\")\n",
    "if not os.path.exists(\"configs\"):\n",
    "    shutil.copytree(\"configs_backup\", \"configs\")\n",
    "os.makedirs(\"input\", exist_ok=True)\n",
    "os.makedirs(\"results\", exist_ok=True)\n",
    "\n",
    "# Modify config file\n",
    "with open(\"data/webui_config.json\", 'r', encoding=\"utf-8\") as f:\n",
    "    config = json.load(f)\n",
    "    config['settings']['language'] = language_dict[LANGUAGE]\n",
    "    config['settings']['download_link'] = MODEL_DOWNLOAD_LINK\n",
    "    config['settings']['debug'] = DEBUG\n",
    "with open(\"data/webui_config.json\", 'w', encoding=\"utf-8\") as f:\n",
    "    json.dump(config, f, indent=4)\n",
    "\n",
    "# Start WebUI\n",
    "!python webUI_for_clouds.py"
   ]
  }
 ],
 "metadata": {
  "language_info": {
   "name": "python"
  }
 },
 "nbformat": 4,
 "nbformat_minor": 2
}
